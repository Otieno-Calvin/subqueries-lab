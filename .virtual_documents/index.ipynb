


import sqlite3 
db = sqlite3.connect('data.sqlite')
cur = db.cursor()





cur.execute('''
    SELECT
    customerNumber,
    contactLastName,
    contactFirstName
FROM customers
WHERE customerNumber IN (
    SELECT customerNumber
    FROM orders
    WHERE orderDate = '2003-01-31')
    ''').fetchall()





cur.execute('''
SELECT 
    productName,
    (SELECT COUNT(o.orderNumber) 
     FROM orderdetails od 
     JOIN orders o ON od.orderNumber = o.orderNumber
     WHERE od.productCode = p.productCode) AS total_orders,
    (SELECT SUM(quantityOrdered) 
     FROM orderdetails od
     WHERE od.productCode = p.productCode) AS total_items_sold
FROM products p
ORDER BY total_items_sold DESC;
    ''').fetchall()





cur.execute('''
    SELECT 
    p.productName,
    (SELECT COUNT(DISTINCT customerNumber) 
     FROM orders o
     JOIN orderdetails od ON o.orderNumber = od.orderNumber
     WHERE od.productCode = p.productCode) AS total_number
FROM 
    products p
ORDER BY 
    total_number DESC;

    ''').fetchall()








# Your code here
# Hint: because one of the tables we'll be joining has duplicate customer numbers, you should use DISTINCT





cur.execute(''' SELECT DISTINCT 
    e.employeeNumber,
    e.firstName,
    e.lastName,
    o.city,
    e.officeCode
FROM 
    employees e
JOIN 
    offices o ON e.officeCode = o.officeCode
WHERE 
    e.employeeNumber IN (
        SELECT 
            c.salesRepEmployeeNumber
        FROM 
            customers c
        JOIN 
            orders ord ON c.customerNumber = ord.customerNumber
        JOIN 
            orderdetails od ON ord.orderNumber = od.orderNumber
        WHERE 
            od.productCode IN (
                SELECT 
                    od_inner.productCode
                FROM 
                    orderdetails od_inner
                JOIN 
                    orders ord_inner ON od_inner.orderNumber = ord_inner.orderNumber
                GROUP BY 
                    od_inner.productCode
                HAVING 
                    COUNT(DISTINCT ord_inner.customerNumber) < 20
            )
        GROUP BY 
            c.salesRepEmployeeNumber
    );

''').fetchall()  





# Your code here



